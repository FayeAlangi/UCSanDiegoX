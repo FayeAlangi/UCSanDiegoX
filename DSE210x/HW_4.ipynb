{
 "cells": [
  {
   "cell_type": "markdown",
   "metadata": {},
   "source": [
    "<font size=\"4\" style=\"color:red;\"> **IMPORTANT: ** When submitting this homework notebook, only modify the cells that start with:</font>\n",
    "\n",
    "```python\n",
    "# modify this cell\n",
    "```\n",
    "\n",
    "<font style=\"color:red;\"> Do not add any new cells and do not import any packages. For working on the notebook, we reccomend you create a copy that you can use to test ideas.</font>"
   ]
  },
  {
   "cell_type": "markdown",
   "metadata": {},
   "source": [
    "# Integer compositions\n",
    "\n",
    "A $k$-composition of an integer $n$ is a $k$-tuple of positive integesrs that sum to $n$. As we saw, there are $\\binom{n-1}{k-1}$ such compositions. For example, there are $\\binom{4-1}{3-1}=\\binom32=3\\quad$ 3-compositions of 4: $(1,1,2)$, $(1,2,1)$, and $(2,1,1)$.\n",
    "\n",
    "The following problems ask you to generate such compositions, verify the above formula computationally, and to generate and enumerate constrined compositions."
   ]
  },
  {
   "cell_type": "markdown",
   "metadata": {},
   "source": [
    "### Helper Code"
   ]
  },
  {
   "cell_type": "code",
   "execution_count": null,
   "metadata": {},
   "outputs": [],
   "source": [
    "import sys\n",
    "import numpy as np\n",
    "import scipy as sp\n",
    "from scipy.special import *"
   ]
  },
  {
   "cell_type": "markdown",
   "metadata": {},
   "source": [
    "This helper function not used in your homework. You don't need to know how it works."
   ]
  },
  {
   "cell_type": "code",
   "execution_count": null,
   "metadata": {},
   "outputs": [],
   "source": [
    "def print_compositions(func_out):\n",
    "    for x in func_out:\n",
    "        string = \"\"\n",
    "        for i in x:\n",
    "           string = string + str(i)+ \" + \"\n",
    "        print(string[0:-2])   \n",
    "        "
   ]
  },
  {
   "cell_type": "markdown",
   "metadata": {},
   "source": [
    "## Problem 1"
   ]
  },
  {
   "cell_type": "markdown",
   "metadata": {},
   "source": [
    "Write a function **compositions** that takes two natural numbers $k$ and $n$ as inputs and returns the set of all tuples of size $k$ that sum to $n$. \n",
    "\n",
    "<font  style=\"color:blue\"> **Code:**</font>\n",
    "```python\n",
    "func_out = compositions(3,4)\n",
    "\n",
    "print \"all possible combinations: \"\n",
    "print_compositions(func_out)\n",
    "print;print \"Actual Output from compositions(3,4)\"; func_out\n",
    "```\n",
    "\n",
    "\n",
    "<font  style=\"color:magenta\"> **Output**</font>\n",
    "```\n",
    "all possible combinations: \n",
    "1 + 2 + 1 \n",
    "2 + 1 + 1 \n",
    "1 + 1 + 2 \n",
    "\n",
    "Actual Output from: compositions(3,4)\n",
    "{(1, 1, 2), (1, 2, 1), (2, 1, 1)}\n",
    "```"
   ]
  },
  {
   "cell_type": "code",
   "execution_count": 12,
   "metadata": {},
   "outputs": [
    {
     "data": {
      "text/plain": [
       "40"
      ]
     },
     "execution_count": 12,
     "metadata": {},
     "output_type": "execute_result"
    }
   ],
   "source": [
    "import sys\n",
    "sys.getsizeof(2**100)"
   ]
  },
  {
   "cell_type": "code",
   "execution_count": 15,
   "metadata": {},
   "outputs": [
    {
     "name": "stdout",
     "output_type": "stream",
     "text": [
      "1024 3.790000482695177e-05\n"
     ]
    }
   ],
   "source": [
    "import time\n",
    "start=time.perf_counter()\n",
    "b=2**10\n",
    "end=time.perf_counter()\n",
    "print(b, end-start)\n"
   ]
  },
  {
   "cell_type": "code",
   "execution_count": null,
   "metadata": {},
   "outputs": [],
   "source": []
  },
  {
   "cell_type": "code",
   "execution_count": null,
   "metadata": {},
   "outputs": [],
   "source": []
  },
  {
   "cell_type": "code",
   "execution_count": null,
   "metadata": {},
   "outputs": [],
   "source": []
  },
  {
   "cell_type": "code",
   "execution_count": null,
   "metadata": {},
   "outputs": [],
   "source": []
  },
  {
   "cell_type": "code",
   "execution_count": 17,
   "metadata": {},
   "outputs": [
    {
     "data": {
      "text/plain": [
       "[1, 2, 3, 4, 5, 6, 7, 8, 9, 10, 11, 12, 13, 14, 15, 16]"
      ]
     },
     "execution_count": 17,
     "metadata": {},
     "output_type": "execute_result"
    }
   ],
   "source": [
    "import itertools\n",
    "import numpy as np\n",
    "from scipy.special import *\n",
    "n=16\n",
    "k=9\n",
    "list_nums=[i for i in range(1,n+1)]\n",
    "\n",
    "list_nums\n",
    "        \n"
   ]
  },
  {
   "cell_type": "code",
   "execution_count": null,
   "metadata": {},
   "outputs": [],
   "source": []
  },
  {
   "cell_type": "markdown",
   "metadata": {},
   "source": [
    "# This is the solution using recursion.Think about it later,9-27\n"
   ]
  },
  {
   "cell_type": "code",
   "execution_count": 110,
   "metadata": {},
   "outputs": [],
   "source": [
    "def compositions(k, n):\n",
    "    # inputs: k and n are of type 'int'\n",
    "    # output: a set of tuples\n",
    "\n",
    "    parts = set()\n",
    "    if k == n:\n",
    "        parts.add((1,) * n)\n",
    "    if k == 1:\n",
    "        parts.add((n,))\n",
    "    else:\n",
    "        for x in range(1, n - k + 2):\n",
    "            for y in compositions(k - 1, n - x):\n",
    "                parts.add((x,) + y)\n",
    "    return parts"
   ]
  },
  {
   "cell_type": "code",
   "execution_count": null,
   "metadata": {},
   "outputs": [],
   "source": []
  },
  {
   "cell_type": "code",
   "execution_count": 111,
   "metadata": {},
   "outputs": [],
   "source": [
    "# Check Function\n",
    "func_out = compositions(2, 8)\n",
    "assert type(func_out).__name__ == \"set\"\n",
    "assert func_out == {(1, 7), (2, 6), (3, 5), (4, 4), (5, 3), (6, 2), (7, 1)}\n",
    "\n",
    "#\n",
    "# AUTOGRADER TEST - DO NOT REMOVE\n",
    "#\n"
   ]
  },
  {
   "cell_type": "markdown",
   "metadata": {},
   "source": [
    "## Problem 2\n",
    "\n",
    "Write a function **composition_formula** that takes two positive integers, $k$ and $n$,\n",
    "and returns the number of $k$-compositions of $n$ calculated in two different ways:\n",
    "first by calculating the number of compositions returned by **compositions**, \n",
    "then by using the binomial formula $\\binom{n-1}{k-1}$. The returned value should be a\n",
    "tuple consisting of the (same) integer calculated in the two ways.\n",
    "\n",
    "<font  style=\"color:blue\"> **Code**</font>\n",
    "```python\n",
    "print len(compositions(3, 4))\n",
    "print int(binom(4-1, 3-1))\n",
    "print composition_formula(3, 4)\n",
    "```\n",
    "\n",
    "<font  style=\"color:magenta\"> **Output**</font>\n",
    "```python\n",
    "3\n",
    "3\n",
    "(3, 3)\n",
    "```"
   ]
  },
  {
   "cell_type": "code",
   "execution_count": 112,
   "metadata": {
    "nbgrader": {
     "grade": true,
     "grade_id": "ex2",
     "locked": true,
     "points": "5",
     "solution": false
    }
   },
   "outputs": [],
   "source": [
    "\n",
    "def composition_formula(k, n):\n",
    "    # inputs: k and n are of type 'int'\n",
    "    # output: a set of tuples, (int, int)\n",
    "   \n",
    "    return(len(compositions(k,n)),int(binom(n-1,k-1)))\n",
    "    \n",
    " "
   ]
  },
  {
   "cell_type": "code",
   "execution_count": 113,
   "metadata": {},
   "outputs": [
    {
     "name": "stdout",
     "output_type": "stream",
     "text": [
      "(6435, 6435)\n"
     ]
    }
   ],
   "source": [
    "print(composition_formula(9,16))"
   ]
  },
  {
   "cell_type": "code",
   "execution_count": 114,
   "metadata": {},
   "outputs": [],
   "source": [
    "# Check Function\n",
    "assert composition_formula(4, 12) == (165,165)\n",
    "\n",
    "#\n",
    "# AUTOGRADER TEST - DO NOT REMOVE\n",
    "#\n"
   ]
  },
  {
   "cell_type": "markdown",
   "metadata": {
    "collapsed": true
   },
   "source": [
    "## Problem 3\n",
    "\n",
    "Let $\\boldsymbol{m}=(m_1,...,m_k)$ be a vector of $k$ positive integers. A $k$-composition $(a_1,...,a_k)$ of $n$ is $\\boldsymbol{m}$-constrained if $a_i\\leq m_i$ for all $1\\le i\\le k$. For example, $(1,1,3)$ and $(2,1,2)$ are the only $(2,1,4)$-constrined 3-partitions of 5. \n",
    "\n",
    "Write a function **constrained_compositions** that takes a natural number $n$ and a vector $\\boldsymbol{m}$ of $k$ positive integers, and prints the set of all $\\boldsymbol m$-constrained $k$-compositions of $n$. Note that $k$ can be inferred from $\\boldsymbol m$. \n",
    "\n",
    "Hint: You may invoke the **compositions** function.\n",
    "\n",
    "<font  style=\"color:blue\"> **Code**</font>\n",
    "```python\n",
    "func_out = constrained_compositions(7, [3, 2, 5])\n",
    "\n",
    "print \"all possible combinations: \"\n",
    "print_compositions(func_out)\n",
    "print;print \"Actual Output from compositions(3,7)\"; func_out\n",
    "```\n",
    "\n",
    "\n",
    "<font  style=\"color:magenta\"> **Output**</font>\n",
    "```\n",
    "all possible combinations: \n",
    "1 + 2 + 4 \n",
    "2 + 1 + 4 \n",
    "3 + 2 + 2 \n",
    "3 + 1 + 3 \n",
    "1 + 1 + 5 \n",
    "2 + 2 + 3 \n",
    "\n",
    "Actual Output from compositions(3,7)\n",
    "{(1, 1, 5), (1, 2, 4), (2, 1, 4), (2, 2, 3), (3, 1, 3), (3, 2, 2)}\n",
    "```"
   ]
  },
  {
   "cell_type": "code",
   "execution_count": null,
   "metadata": {},
   "outputs": [],
   "source": []
  },
  {
   "cell_type": "code",
   "execution_count": 77,
   "metadata": {},
   "outputs": [],
   "source": [
    "def compositions(k, n):\n",
    "    # inputs: k and n are of type 'int'\n",
    "    # output: a set of tuples\n",
    "\n",
    "    parts = set()\n",
    "    if k == n:\n",
    "        parts.add((1,) * n)\n",
    "    if k == 1:\n",
    "        parts.add((n,))\n",
    "    else:\n",
    "        for x in range(1, n - k + 2):\n",
    "            for y in compositions(k - 1, n - x):\n",
    "                parts.add((x,) + y)\n",
    "    return parts"
   ]
  },
  {
   "cell_type": "code",
   "execution_count": 80,
   "metadata": {
    "nbgrader": {
     "grade": true,
     "grade_id": "ex3",
     "locked": true,
     "points": "5",
     "solution": false
    }
   },
   "outputs": [],
   "source": [
    "# modify this cell\n",
    "\n",
    "def constrained_compositions(n, m):\n",
    "    # inputs: n is of type 'int' and m is a list of integers\n",
    "    # output: a set of tuples\n",
    "    result=set()\n",
    "    #all_compositions=np.unique((compositions(len(m),n)))\n",
    "    all_compositions=(compositions(len(m),n))\n",
    "    print(all_compositions)\n",
    "    for x in all_compositions:\n",
    "        if all (x[i]<=m[i] for i in range(len(m))):\n",
    "            if set(x) not in result:\n",
    "                result.add(x)\n",
    "                \n",
    "            \n",
    "                \n",
    "    return result\n",
    "                \n",
    "        \n"
   ]
  },
  {
   "cell_type": "markdown",
   "metadata": {},
   "source": [
    "# This is the solution from website using recursion"
   ]
  },
  {
   "cell_type": "markdown",
   "metadata": {},
   "source": [
    "def constrained_compositions(n, m):\n",
    "    # inputs: n is of type 'int' and m is a list of integers\n",
    "    # output: a set of tuples\n",
    "\n",
    "    k = len(m)\n",
    "    parts = set()\n",
    "    if k == n:\n",
    "        if 1 <= min(m):\n",
    "            parts.add((1,)*n)\n",
    "    if k == 1:\n",
    "        if n <= m[0]:\n",
    "           parts.add((n,))\n",
    "    else:\n",
    "        for x in range(1, min(n-k+2,m[0]+1)):\n",
    "            for y in constrained_compositions(n-x, m[1:]):\n",
    "                parts.add((x,)+y)\n",
    "    return parts"
   ]
  },
  {
   "cell_type": "code",
   "execution_count": 86,
   "metadata": {},
   "outputs": [
    {
     "name": "stdout",
     "output_type": "stream",
     "text": [
      "{(1, 3, 16), (7, 9, 4), (8, 6, 6), (3, 6, 11), (9, 8, 3), (1, 7, 12), (9, 6, 5), (11, 3, 6), (4, 2, 14), (8, 1, 11), (12, 5, 3), (1, 11, 8), (6, 5, 9), (11, 6, 3), (5, 2, 13), (2, 5, 13), (14, 1, 5), (1, 13, 6), (3, 13, 4), (13, 1, 6), (4, 15, 1), (12, 2, 6), (1, 10, 9), (16, 1, 3), (7, 3, 10), (6, 3, 11), (12, 4, 4), (2, 8, 10), (13, 2, 5), (2, 11, 7), (2, 2, 16), (5, 13, 2), (8, 11, 1), (15, 2, 3), (8, 5, 7), (5, 8, 7), (3, 7, 10), (10, 9, 1), (4, 1, 15), (9, 9, 2), (10, 2, 8), (6, 4, 10), (1, 14, 5), (15, 4, 1), (3, 10, 7), (2, 4, 14), (11, 7, 2), (4, 14, 2), (12, 1, 7), (6, 9, 5), (9, 7, 4), (3, 4, 13), (5, 14, 1), (14, 5, 1), (5, 3, 12), (3, 1, 16), (7, 5, 8), (4, 11, 5), (8, 10, 2), (10, 5, 5), (1, 4, 15), (9, 10, 1), (11, 4, 5), (15, 3, 2), (7, 10, 3), (2, 7, 11), (14, 3, 3), (10, 8, 2), (11, 1, 8), (13, 3, 4), (5, 9, 6), (6, 2, 12), (2, 14, 4), (2, 10, 8), (1, 16, 3), (5, 4, 11), (3, 8, 9), (7, 12, 1), (3, 11, 6), (4, 13, 3), (6, 7, 7), (8, 4, 8), (14, 2, 4), (6, 8, 6), (7, 1, 12), (3, 14, 3), (13, 4, 3), (1, 15, 4), (14, 4, 2), (11, 8, 1), (4, 10, 6), (8, 9, 3), (6, 13, 1), (10, 4, 6), (4, 12, 4), (6, 6, 8), (5, 10, 5), (2, 13, 5), (1, 5, 14), (3, 5, 12), (4, 7, 9), (7, 11, 2), (6, 11, 3), (8, 8, 4), (2, 3, 15), (9, 4, 7), (2, 1, 17), (2, 17, 1), (11, 5, 4), (1, 17, 2), (1, 1, 18), (5, 5, 10), (8, 3, 9), (12, 7, 1), (7, 7, 6), (10, 7, 3), (2, 6, 12), (6, 10, 4), (7, 8, 5), (3, 15, 2), (10, 1, 9), (4, 9, 7), (9, 1, 10), (1, 8, 11), (13, 5, 2), (6, 12, 2), (16, 3, 1), (1, 6, 13), (3, 16, 1), (3, 2, 15), (7, 6, 7), (10, 6, 4), (2, 12, 6), (5, 7, 8), (15, 1, 4), (18, 1, 1), (4, 6, 10), (17, 1, 2), (6, 1, 13), (4, 8, 8), (8, 7, 5), (11, 2, 7), (1, 18, 1), (1, 2, 17), (3, 12, 5), (5, 6, 9), (9, 3, 8), (4, 4, 12), (5, 11, 4), (2, 16, 2), (3, 9, 8), (4, 3, 13), (8, 2, 10), (12, 6, 2), (9, 5, 6), (1, 12, 7), (9, 2, 9), (13, 6, 1), (7, 2, 11), (2, 15, 3), (5, 1, 14), (12, 3, 5), (16, 2, 2), (10, 3, 7), (2, 9, 9), (1, 9, 10), (5, 12, 3), (17, 2, 1), (7, 4, 9), (3, 3, 14), (4, 5, 11)}\n"
     ]
    },
    {
     "data": {
      "text/plain": [
       "54"
      ]
     },
     "execution_count": 86,
     "metadata": {},
     "output_type": "execute_result"
    }
   ],
   "source": [
    "len(constrained_compositions(20,[12,15,5]))"
   ]
  },
  {
   "cell_type": "code",
   "execution_count": 82,
   "metadata": {},
   "outputs": [
    {
     "name": "stdout",
     "output_type": "stream",
     "text": [
      "{(2, 3, 2), (2, 1, 4), (4, 2, 1), (5, 1, 1), (3, 3, 1), (3, 2, 2), (1, 2, 4), (1, 1, 5), (1, 5, 1), (1, 4, 2), (2, 2, 3), (3, 1, 3), (4, 1, 2), (1, 3, 3), (2, 4, 1)}\n",
      "{(2, 3, 2), (2, 1, 4), (4, 2, 1), (5, 1, 1), (3, 3, 1), (3, 2, 2), (1, 2, 4), (1, 1, 5), (1, 5, 1), (1, 4, 2), (2, 2, 3), (3, 1, 3), (4, 1, 2), (1, 3, 3), (2, 4, 1)}\n"
     ]
    }
   ],
   "source": [
    "# Check Function\n",
    "func_out = constrained_compositions(7, [1,4,4])\n",
    "assert type(func_out).__name__ == \"set\"\n",
    "assert constrained_compositions(7, [1,4,4]) == {(1, 2, 4), (1, 3, 3), (1, 4, 2)}\n",
    "\n",
    "#\n",
    "# AUTOGRADER TEST - DO NOT REMOVE\n",
    "#\n"
   ]
  },
  {
   "cell_type": "code",
   "execution_count": null,
   "metadata": {},
   "outputs": [],
   "source": []
  }
 ],
 "metadata": {
  "kernelspec": {
   "display_name": "Python 3",
   "language": "python",
   "name": "python3"
  },
  "language_info": {
   "codemirror_mode": {
    "name": "ipython",
    "version": 3
   },
   "file_extension": ".py",
   "mimetype": "text/x-python",
   "name": "python",
   "nbconvert_exporter": "python",
   "pygments_lexer": "ipython3",
   "version": "3.7.3"
  },
  "toc": {
   "base_numbering": 1,
   "nav_menu": {
    "height": "48px",
    "width": "252px"
   },
   "number_sections": true,
   "sideBar": true,
   "skip_h1_title": false,
   "title_cell": "Table of Contents",
   "title_sidebar": "Contents",
   "toc_cell": false,
   "toc_position": {},
   "toc_section_display": "block",
   "toc_window_display": false
  },
  "varInspector": {
   "cols": {
    "lenName": 16,
    "lenType": 16,
    "lenVar": 40
   },
   "kernels_config": {
    "python": {
     "delete_cmd_postfix": "",
     "delete_cmd_prefix": "del ",
     "library": "var_list.py",
     "varRefreshCmd": "print(var_dic_list())"
    },
    "r": {
     "delete_cmd_postfix": ") ",
     "delete_cmd_prefix": "rm(",
     "library": "var_list.r",
     "varRefreshCmd": "cat(var_dic_list()) "
    }
   },
   "types_to_exclude": [
    "module",
    "function",
    "builtin_function_or_method",
    "instance",
    "_Feature"
   ],
   "window_display": false
  }
 },
 "nbformat": 4,
 "nbformat_minor": 2
}
