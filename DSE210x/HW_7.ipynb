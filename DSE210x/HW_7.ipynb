{
 "cells": [
  {
   "cell_type": "markdown",
   "metadata": {},
   "source": [
    "# The median of independent repeated  sampling"
   ]
  },
  {
   "cell_type": "code",
   "execution_count": 45,
   "metadata": {},
   "outputs": [
    {
     "name": "stdout",
     "output_type": "stream",
     "text": [
      "Populating the interactive namespace from numpy and matplotlib\n"
     ]
    },
    {
     "name": "stderr",
     "output_type": "stream",
     "text": [
      "C:\\Users\\fayal\\Anaconda3\\lib\\site-packages\\IPython\\core\\magics\\pylab.py:160: UserWarning: pylab import has clobbered these variables: ['random', 'median']\n",
      "`%matplotlib` prevents importing * from pylab and numpy\n",
      "  \"\\n`%matplotlib` prevents importing * from pylab and numpy\"\n"
     ]
    }
   ],
   "source": [
    "%pylab inline"
   ]
  },
  {
   "cell_type": "markdown",
   "metadata": {},
   "source": [
    "## The median of a distribution"
   ]
  },
  {
   "cell_type": "markdown",
   "metadata": {},
   "source": [
    "The median of a distribution $P$ is the value $m$ such that if $X\\sim P$, then $P(X\\le m)\\ge\\frac12$ and  $P(X\\ge m)\\ge\\frac12$. If multiple values satisfy this condition, the median is their average.\n",
    "\n",
    "For example, for the biased die with distribution given by\n",
    "<table>\n",
    "<tr><th>x</th><td>1</td><td>2</td><td>3</td><td>4</td><td>5</td><td>6</td></tr>\n",
    "<tr><th>$P_X$(x)</th><td>0.1</td><td>0.2</td><td>0.1</td><td>0.3</td><td>0.1</td><td>0.2</td></tr>\n",
    "</table>\n",
    "Since $P(X\\le 4)=0.7\\ge 0.5$ and $P(X\\ge 4)=0.6\\ge 0.5$, $m=4$.\n",
    "\n",
    "If the distribution was,\n",
    "<table>\n",
    "<tr><th>x</th><td>1</td><td>2</td><td>3</td><td>4</td><td>5</td><td>6</td></tr>\n",
    "<tr><th>$P_X$(x)</th><td>0.1</td><td>0.2</td><td>0.2</td><td>0.2</td><td>0.1</td><td>0.2</td></tr>\n",
    "</table>\n",
    "then both 3 and 4 satisfy the two conditions, and the median is 3.5. \n",
    "\n",
    "While writing the following functions, note that the distribution $P=[x_1,\\ldots x_k]$ represents $P_X(1)=x_1,\\ldots,P_X(k)=x_k$."
   ]
  },
  {
   "cell_type": "code",
   "execution_count": 75,
   "metadata": {},
   "outputs": [],
   "source": [
    "import numpy as np\n",
    "import random\n",
    "import statistics"
   ]
  },
  {
   "cell_type": "code",
   "execution_count": 47,
   "metadata": {},
   "outputs": [
    {
     "data": {
      "text/plain": [
       "(array([0, 2, 3], dtype=int64),)"
      ]
     },
     "execution_count": 47,
     "metadata": {},
     "output_type": "execute_result"
    }
   ],
   "source": [
    "p=np.array([0.12,0.04,0.12,0.12,0.2,0.16,0.16,0.08])\n",
    "x=np.where(p==np.median(p))\n",
    "x\n"
   ]
  },
  {
   "cell_type": "code",
   "execution_count": 4,
   "metadata": {},
   "outputs": [
    {
     "name": "stdout",
     "output_type": "stream",
     "text": [
      "0.12\n",
      "x is:  0\n",
      "px_less:  0.12\n",
      "px_more:  1.0\n",
      "x is:  1\n",
      "px_less:  0.16\n",
      "px_more:  0.88\n",
      "x is:  2\n",
      "px_less:  0.28\n",
      "px_more:  0.84\n",
      "x is:  3\n",
      "px_less:  0.4\n",
      "px_more:  0.72\n",
      "x is:  4\n",
      "px_less:  0.6000000000000001\n",
      "px_more:  0.6\n",
      "x is:  5\n",
      "px_less:  0.7600000000000001\n",
      "px_more:  0.4\n",
      "x is:  6\n",
      "px_less:  0.9200000000000002\n",
      "px_more:  0.24\n",
      "x is:  7\n",
      "px_less:  1.0\n",
      "px_more:  0.08\n",
      "[4]\n"
     ]
    }
   ],
   "source": [
    "p=np.array([0.12,0.04,0.12,0.12,0.2,0.16,0.16,0.08])\n",
    "a=median(p)\n",
    "print(a)\n",
    "median=[]\n",
    "for x,prob in enumerate(p):\n",
    "    px_less=sum(p[:x+1])\n",
    "    px_more=sum(p[x:])\n",
    "    print('x is: ',x)\n",
    "    print('px_less: ',px_less)\n",
    "    print('px_more: ',px_more)\n",
    "    if px_less>=1/2 and px_more>=1/2:\n",
    "        median.append(x)\n",
    "print(median)\n",
    "    "
   ]
  },
  {
   "cell_type": "code",
   "execution_count": 5,
   "metadata": {},
   "outputs": [],
   "source": [
    "p=[0.1,0.2,0.1,0.3,0.1,0.2]\n",
    "\n",
    "    "
   ]
  },
  {
   "cell_type": "markdown",
   "metadata": {},
   "source": [
    "### Exercise 1"
   ]
  },
  {
   "cell_type": "markdown",
   "metadata": {},
   "source": [
    "Write a function <code><font color=\"blue\">median_cal</font>(P)</code> that returns the median given a distribution <code>P</code>.\n",
    "\n",
    "<font color=\"blue\">* **Sample run** *</font>\n",
    "```python\n",
    "print(median_cal([0.1 0.2 0.1 0.3 0.1 0.2]))\n",
    "print(median_cal([0.99 0.01])\n",
    "```\n",
    "<font color=\"magenta\">* **Expected Output** *</font>\n",
    "```python\n",
    "4\n",
    "1\n",
    "```"
   ]
  },
  {
   "cell_type": "code",
   "execution_count": 71,
   "metadata": {},
   "outputs": [],
   "source": [
    "#Faye's solution\n",
    "def median_cal(P):\n",
    "    median=[]\n",
    "    for x,prob in enumerate(P):\n",
    "        px_less=sum(P[:x+1])\n",
    "        px_more=sum(P[x:])\n",
    "    \n",
    "        if px_less>=0.5 and px_more>=0.5:\n",
    "            median.append(x+1)\n",
    "    return(sum(median)/len(median))"
   ]
  },
  {
   "cell_type": "code",
   "execution_count": 93,
   "metadata": {},
   "outputs": [
    {
     "data": {
      "text/plain": [
       "1.0"
      ]
     },
     "execution_count": 93,
     "metadata": {},
     "output_type": "execute_result"
    }
   ],
   "source": [
    "P=[0.12,0.04,0.12,0.12,0.2,0.16,0.16,0.08]\n",
    "sum(P)"
   ]
  },
  {
   "cell_type": "code",
   "execution_count": 101,
   "metadata": {},
   "outputs": [
    {
     "data": {
      "text/plain": [
       "[0.12, 0.04, 0.12, 0.12, 0.12, 0.12]"
      ]
     },
     "execution_count": 101,
     "metadata": {},
     "output_type": "execute_result"
    }
   ],
   "source": [
    "li=random.choices(P,k=6)\n",
    "li"
   ]
  },
  {
   "cell_type": "code",
   "execution_count": 99,
   "metadata": {},
   "outputs": [
    {
     "ename": "AttributeError",
     "evalue": "'numpy.ndarray' object has no attribute 'index'",
     "output_type": "error",
     "traceback": [
      "\u001b[1;31m---------------------------------------------------------------------------\u001b[0m",
      "\u001b[1;31mAttributeError\u001b[0m                            Traceback (most recent call last)",
      "\u001b[1;32m<ipython-input-99-a276e0d3eb76>\u001b[0m in \u001b[0;36m<module>\u001b[1;34m\u001b[0m\n\u001b[1;32m----> 1\u001b[1;33m \u001b[0mli\u001b[0m\u001b[1;33m.\u001b[0m\u001b[0mindex\u001b[0m\u001b[1;33m(\u001b[0m\u001b[1;36m0.2\u001b[0m\u001b[1;33m)\u001b[0m\u001b[1;33m\u001b[0m\u001b[1;33m\u001b[0m\u001b[0m\n\u001b[0m",
      "\u001b[1;31mAttributeError\u001b[0m: 'numpy.ndarray' object has no attribute 'index'"
     ]
    }
   ],
   "source": []
  },
  {
   "cell_type": "code",
   "execution_count": 74,
   "metadata": {},
   "outputs": [
    {
     "name": "stdout",
     "output_type": "stream",
     "text": [
      "0.8800000000000001\n",
      "0.12 0.8800000000000001\n",
      "0.28 0.76\n",
      "0.4 0.6000000000000001\n",
      "0.52 0.48000000000000004\n",
      "0.68 0.36\n",
      "0.8800000000000001 0.2\n"
     ]
    }
   ],
   "source": [
    "P=[0.12, 0.16, 0.12, 0.12, 0.16, 0.2]\n",
    "print(sum(P))\n",
    "for x,prob in enumerate(P):\n",
    "        px_less=sum(P[:x+1])\n",
    "        px_more=sum(P[x:])\n",
    "        print(px_less,px_more)"
   ]
  },
  {
   "cell_type": "code",
   "execution_count": 49,
   "metadata": {},
   "outputs": [],
   "source": [
    "#Check Function\n",
    "\n",
    "assert median_cal([0.99,0.1])==1\n",
    "assert median_cal([0.1,0.2,0.1,0.3,0.1,0.2])==4\n"
   ]
  },
  {
   "cell_type": "code",
   "execution_count": 105,
   "metadata": {},
   "outputs": [
    {
     "data": {
      "text/plain": [
       "5.0"
      ]
     },
     "execution_count": 105,
     "metadata": {},
     "output_type": "execute_result"
    }
   ],
   "source": [
    "median_cal([0.12,0.04,0.12,0.12,0.2,0.16,0.16,0.08])\n"
   ]
  },
  {
   "cell_type": "code",
   "execution_count": 9,
   "metadata": {},
   "outputs": [
    {
     "name": "stdout",
     "output_type": "stream",
     "text": [
      "[0.1 0.1 0.3 0.3 0.2 0.2 0.2 0.3 0.2 0.2] 5.5\n"
     ]
    }
   ],
   "source": [
    "p=np.array([0.1,0.2,0.3,0.2,0.2])\n",
    "sample_p=np.random.choice(p,size=10,replace=True)\n",
    "print(sample_p,median_cal(sample_p))"
   ]
  },
  {
   "cell_type": "markdown",
   "metadata": {},
   "source": [
    "## Median of a sample "
   ]
  },
  {
   "cell_type": "markdown",
   "metadata": {},
   "source": [
    "If the distribution is given, as above, the median can be determined easily. In this problem we will learn how to approximate the median when the distribution is not given, but we are given samples that it generates. \n",
    "\n",
    "Similar to distributions, we can define the median of a set to be the set element $m'$ such that at least half the elements in the set are $\\le m'$ and at least half the numbers in the collection are $\\ge m'$. If two set elements satisfy this condition, then the median is their average. For example, the median of [3,2,5,5,2,4,1,5,4,4] is $4$ and the median of [2,1,5,3,3,5,4,2,4,5] is $3.5$.\n",
    "\n",
    "To find the median of a $P$ distribution via access only to samples\n",
    "it generates, we obtain $n$ samples from $P$, caluclate their median \n",
    "$M_n$, and then repeat the process many times and determine the average\n",
    "of all the medians. "
   ]
  },
  {
   "cell_type": "markdown",
   "metadata": {},
   "source": [
    "### Exercise 2"
   ]
  },
  {
   "cell_type": "markdown",
   "metadata": {},
   "source": [
    "Write a function <code><font color=\"blue\">sample_median</font>(n,P)</code> that generates <code>n</code> random values using distribution <code>P</code> and returns the median of the collected sample.\n",
    "\n",
    "Hint: Use function <b>random.choice()</b> to sample data from <code>P</code> and <b>median()</b> to find the median of the samples\n",
    "\n",
    "<font color=\"blue\">* **Sample run** *</font>\n",
    "```python\n",
    "print(sample_median(10,[0.1 0.2 0.1 0.3 0.1 0.2])) \n",
    "print(sample_median(10,[0.1 0.2 0.1 0.3 0.1 0.2]))\n",
    "print(sample_median(5,P=[0.3,0.7])\n",
    "print(sample_median(5,P=[0.3,0.7])\n",
    "```\n",
    "<font color=\"magenta\">* **Expected Output** *</font>\n",
    "```python\n",
    "4.5\n",
    "4.0\n",
    "2.0\n",
    "1.0\n",
    "```\n",
    "\n"
   ]
  },
  {
   "cell_type": "code",
   "execution_count": 112,
   "metadata": {},
   "outputs": [],
   "source": [
    "def sample_median(n,P):\n",
    "    \n",
    "    sample=random.choices(P,k=n)\n",
    "    median_sample=statistics.median(sample)\n",
    "    return median_sample\n",
    "   \n",
    "    "
   ]
  },
  {
   "cell_type": "code",
   "execution_count": 113,
   "metadata": {},
   "outputs": [
    {
     "ename": "AssertionError",
     "evalue": "",
     "output_type": "error",
     "traceback": [
      "\u001b[1;31m---------------------------------------------------------------------------\u001b[0m",
      "\u001b[1;31mAssertionError\u001b[0m                            Traceback (most recent call last)",
      "\u001b[1;32m<ipython-input-113-f7d62d6439ff>\u001b[0m in \u001b[0;36m<module>\u001b[1;34m\u001b[0m\n\u001b[0;32m      1\u001b[0m \u001b[1;31m#Check Function\u001b[0m\u001b[1;33m\u001b[0m\u001b[1;33m\u001b[0m\u001b[1;33m\u001b[0m\u001b[0m\n\u001b[0;32m      2\u001b[0m \u001b[1;33m\u001b[0m\u001b[0m\n\u001b[1;32m----> 3\u001b[1;33m \u001b[1;32massert\u001b[0m \u001b[0mabs\u001b[0m\u001b[1;33m(\u001b[0m\u001b[0msample_median\u001b[0m\u001b[1;33m(\u001b[0m\u001b[1;36m10\u001b[0m\u001b[1;33m,\u001b[0m\u001b[1;33m[\u001b[0m\u001b[1;36m0.1\u001b[0m\u001b[1;33m,\u001b[0m\u001b[1;36m0.2\u001b[0m\u001b[1;33m,\u001b[0m\u001b[1;36m0.3\u001b[0m\u001b[1;33m,\u001b[0m\u001b[1;36m0.2\u001b[0m\u001b[1;33m,\u001b[0m\u001b[1;36m0.2\u001b[0m\u001b[1;33m]\u001b[0m\u001b[1;33m)\u001b[0m\u001b[1;33m-\u001b[0m\u001b[1;36m3\u001b[0m\u001b[1;33m)\u001b[0m\u001b[1;33m<=\u001b[0m\u001b[1;36m1\u001b[0m\u001b[1;33m\u001b[0m\u001b[1;33m\u001b[0m\u001b[0m\n\u001b[0m\u001b[0;32m      4\u001b[0m \u001b[1;32massert\u001b[0m \u001b[0mabs\u001b[0m\u001b[1;33m(\u001b[0m\u001b[0msample_median\u001b[0m\u001b[1;33m(\u001b[0m\u001b[1;36m25\u001b[0m\u001b[1;33m,\u001b[0m\u001b[1;33m[\u001b[0m\u001b[1;36m0.2\u001b[0m\u001b[1;33m,\u001b[0m\u001b[1;36m0.1\u001b[0m\u001b[1;33m,\u001b[0m\u001b[1;36m0.2\u001b[0m\u001b[1;33m,\u001b[0m\u001b[1;36m0.3\u001b[0m\u001b[1;33m,\u001b[0m\u001b[1;36m0.1\u001b[0m\u001b[1;33m,\u001b[0m\u001b[1;36m0.1\u001b[0m\u001b[1;33m]\u001b[0m\u001b[1;33m)\u001b[0m\u001b[1;33m-\u001b[0m\u001b[1;36m3\u001b[0m\u001b[1;33m)\u001b[0m\u001b[1;33m<=\u001b[0m\u001b[1;36m1\u001b[0m\u001b[1;33m\u001b[0m\u001b[1;33m\u001b[0m\u001b[0m\n",
      "\u001b[1;31mAssertionError\u001b[0m: "
     ]
    }
   ],
   "source": [
    "#Check Function\n",
    "\n",
    "assert abs(sample_median(10,[0.1,0.2,0.3,0.2,0.2])-3)<=1\n",
    "assert abs(sample_median(25,[0.2,0.1,0.2,0.3,0.1,0.1])-3)<=1\n"
   ]
  },
  {
   "cell_type": "markdown",
   "metadata": {},
   "source": [
    "### Exercise 3 "
   ]
  },
  {
   "cell_type": "markdown",
   "metadata": {},
   "source": [
    "Write a function <code><font color=\"blue\">expected_cal</font>(P)</code> that finds the expected value of the distribution P."
   ]
  },
  {
   "cell_type": "code",
   "execution_count": 106,
   "metadata": {},
   "outputs": [
    {
     "data": {
      "text/plain": [
       "0.125"
      ]
     },
     "execution_count": 106,
     "metadata": {},
     "output_type": "execute_result"
    }
   ],
   "source": [
    "mean([0.12, 0.04, 0.12, 0.12, 0.2, 0.16, 0.16, 0.08])"
   ]
  },
  {
   "cell_type": "code",
   "execution_count": 107,
   "metadata": {},
   "outputs": [],
   "source": [
    "def expected_cal(P):\n",
    "    p=np.array(P)\n",
    "    x=np.array([i+1 for i in range(len(P))])\n",
    "    return sum(x*p)"
   ]
  },
  {
   "cell_type": "code",
   "execution_count": 108,
   "metadata": {},
   "outputs": [],
   "source": [
    "#Check function\n",
    "\n",
    "assert expected_cal([0.25,0.25,0.25,0.25])==2.5\n",
    "assert expected_cal([0.3,0.4,0.3])==2"
   ]
  },
  {
   "cell_type": "code",
   "execution_count": 109,
   "metadata": {},
   "outputs": [
    {
     "data": {
      "text/plain": [
       "4.76"
      ]
     },
     "execution_count": 109,
     "metadata": {},
     "output_type": "execute_result"
    }
   ],
   "source": [
    "P=[0.12, 0.04, 0.12, 0.12, 0.2, 0.16, 0.16, 0.08]\n",
    "expected_cal(P)"
   ]
  },
  {
   "cell_type": "markdown",
   "metadata": {},
   "source": [
    "### Exercise 4"
   ]
  },
  {
   "cell_type": "markdown",
   "metadata": {},
   "source": [
    "In this exercise, we explore the relationship between the distribution median $m$, the sample median with $n$ samples, and $E[M_n]$,the expected value of $M_n$. \n",
    "\n",
    "Write a function <code><font color=\"blue\">average_sample_median</font>(n,P)</code>, that return the average $M_n$ of 1000 samples of size <code>n</code> sampled from the distribution <code>P</code>.\n",
    "\n",
    "<font color=\"blue\">* **Sample run** *</font>\n",
    "```python\n",
    "print(average_sample_median(10,[0.2,0.1,0.15,0.15,0.2,0.2])) \n",
    "print(average_sample_median(10,[0.3,0.4,0.3]))\n",
    "print(average_sample_median(10,P=[0.99,0.01])\n",
    "```\n",
    "<font color=\"magenta\">* **Expected Output** *</font>\n",
    "```python\n",
    "3.7855\n",
    "2.004\n",
    "1\n",
    "```"
   ]
  },
  {
   "cell_type": "code",
   "execution_count": null,
   "metadata": {
    "collapsed": true
   },
   "outputs": [],
   "source": [
    "def average_sample_median(n,P):\n",
    "    #\n",
    "    #Your code here\n",
    "    #"
   ]
  },
  {
   "cell_type": "code",
   "execution_count": null,
   "metadata": {
    "collapsed": true
   },
   "outputs": [],
   "source": [
    "#Check function\n",
    "assert((average_sample_median(20,[0.4,0.6])-median_cal([0.4,0.6]))<=1e-3)\n",
    "assert((average_sample_median(200,[0.1,0.2,0.3,0.1,0.1,0.2])-median_cal([0.1,0.2,0.3,0.1,0.1,0.2]))<=1)"
   ]
  },
  {
   "cell_type": "code",
   "execution_count": null,
   "metadata": {
    "collapsed": true
   },
   "outputs": [],
   "source": []
  }
 ],
 "metadata": {
  "kernelspec": {
   "display_name": "Python 3",
   "language": "python",
   "name": "python3"
  },
  "language_info": {
   "codemirror_mode": {
    "name": "ipython",
    "version": 3
   },
   "file_extension": ".py",
   "mimetype": "text/x-python",
   "name": "python",
   "nbconvert_exporter": "python",
   "pygments_lexer": "ipython3",
   "version": "3.7.3"
  },
  "toc": {
   "base_numbering": 1,
   "nav_menu": {},
   "number_sections": true,
   "sideBar": true,
   "skip_h1_title": false,
   "title_cell": "Table of Contents",
   "title_sidebar": "Contents",
   "toc_cell": false,
   "toc_position": {},
   "toc_section_display": true,
   "toc_window_display": false
  },
  "varInspector": {
   "cols": {
    "lenName": 16,
    "lenType": 16,
    "lenVar": 40
   },
   "kernels_config": {
    "python": {
     "delete_cmd_postfix": "",
     "delete_cmd_prefix": "del ",
     "library": "var_list.py",
     "varRefreshCmd": "print(var_dic_list())"
    },
    "r": {
     "delete_cmd_postfix": ") ",
     "delete_cmd_prefix": "rm(",
     "library": "var_list.r",
     "varRefreshCmd": "cat(var_dic_list()) "
    }
   },
   "types_to_exclude": [
    "module",
    "function",
    "builtin_function_or_method",
    "instance",
    "_Feature"
   ],
   "window_display": false
  }
 },
 "nbformat": 4,
 "nbformat_minor": 2
}
